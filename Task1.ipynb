{
 "cells": [
  {
   "cell_type": "code",
   "execution_count": 1,
   "id": "15daa0fb-b225-4daf-b7ae-290fc6488c66",
   "metadata": {},
   "outputs": [],
   "source": [
    "import minsearch\n",
    "import json"
   ]
  },
  {
   "cell_type": "code",
   "execution_count": 2,
   "id": "b6e3b74d-498d-44e8-b4c3-3f5bc7986f73",
   "metadata": {},
   "outputs": [],
   "source": [
    "import requests \n",
    "\n",
    "docs_url = 'https://github.com/DataTalksClub/llm-zoomcamp/blob/main/01-intro/documents.json?raw=1'\n",
    "docs_response = requests.get(docs_url)\n",
    "documents_raw = docs_response.json()\n",
    "\n",
    "documents = []\n",
    "\n",
    "for course in documents_raw:\n",
    "    course_name = course['course']\n",
    "\n",
    "    for doc in course['documents']:\n",
    "        doc['course'] = course_name\n",
    "        documents.append(doc)"
   ]
  },
  {
   "cell_type": "markdown",
   "id": "47e53e4b-e173-4b3d-ab21-453a025cd681",
   "metadata": {},
   "source": [
    "Elastic Search"
   ]
  },
  {
   "cell_type": "code",
   "execution_count": 3,
   "id": "17b291d5-9d63-43da-bcec-2570b3b9ed06",
   "metadata": {},
   "outputs": [],
   "source": [
    "from elasticsearch import Elasticsearch\n",
    "from elasticsearch import NotFoundError"
   ]
  },
  {
   "cell_type": "code",
   "execution_count": 4,
   "id": "f0f41be8-bc98-4781-a675-1049d1b25e63",
   "metadata": {},
   "outputs": [],
   "source": [
    "es_client = Elasticsearch('http://localhost:9200') "
   ]
  },
  {
   "cell_type": "code",
   "execution_count": 5,
   "id": "fa1aff0d-db69-49ed-ad63-02da75be0db9",
   "metadata": {},
   "outputs": [],
   "source": [
    "index_settings = {\n",
    "    \"settings\": {\n",
    "        \"number_of_shards\": 1,\n",
    "        \"number_of_replicas\": 0\n",
    "    },\n",
    "    \"mappings\": {\n",
    "        \"properties\": {\n",
    "            \"text\": {\"type\": \"text\"},\n",
    "            \"section\": {\"type\": \"text\"},\n",
    "            \"question\": {\"type\": \"text\"},\n",
    "            \"course\": {\"type\": \"keyword\"} \n",
    "        }\n",
    "    }\n",
    "}\n",
    "\n",
    "index_name = \"course-questions\"\n",
    "try:\n",
    "    es_client.indices.get(index=index_name)\n",
    "    print(f\"{index_name} already exists\")\n",
    "except NotFoundError:\n",
    "    es_client.indices.create(index=index_name, body=index_settings)\n",
    "    \n"
   ]
  },
  {
   "cell_type": "code",
   "execution_count": 6,
   "id": "8106f143-ede1-445f-bdab-289f9475eb9b",
   "metadata": {},
   "outputs": [],
   "source": [
    "def elastic_search(query):\n",
    "    search_query = {\n",
    "        \"size\": 3,\n",
    "        \"query\": {\n",
    "            \"bool\": {\n",
    "                \"must\": {\n",
    "                    \"multi_match\": {\n",
    "                        \"query\": query,\n",
    "                        \"fields\": [\"question^4\",\"text\"],\n",
    "                        #\"fields\": [],\n",
    "                        #\"type\": \"best_fields\"\n",
    "                    }\n",
    "                },\n",
    "                 \"filter\": {\n",
    "                     \"term\": {\n",
    "                         \"course\": \"machine-learning-zoomcamp\"\n",
    "                     }\n",
    "                 }\n",
    "            }\n",
    "        }\n",
    "    }\n",
    "\n",
    "    response = es_client.search(index=index_name, body=search_query)\n",
    "    \n",
    "    result_docs = []\n",
    "    \n",
    "    for hit in response['hits']['hits']:\n",
    "        #print(response['hits'])\n",
    "        result_docs.append(hit['_source'])\n",
    "    \n",
    "    return result_docs"
   ]
  },
  {
   "cell_type": "code",
   "execution_count": 7,
   "id": "f6c27196-ef87-4932-9c44-0dcb35c6844a",
   "metadata": {},
   "outputs": [
    {
     "name": "stderr",
     "output_type": "stream",
     "text": [
      "/usr/local/python/3.10.13/lib/python3.10/site-packages/tqdm/auto.py:21: TqdmWarning: IProgress not found. Please update jupyter and ipywidgets. See https://ipywidgets.readthedocs.io/en/stable/user_install.html\n",
      "  from .autonotebook import tqdm as notebook_tqdm\n"
     ]
    }
   ],
   "source": [
    "from tqdm.auto import tqdm"
   ]
  },
  {
   "cell_type": "code",
   "execution_count": 8,
   "id": "92d172e8-7bf5-4487-9be5-08e9dd7b30ab",
   "metadata": {},
   "outputs": [
    {
     "name": "stderr",
     "output_type": "stream",
     "text": [
      "100%|█████████████████████████████████████████████████████████████████████████████| 948/948 [00:21<00:00, 43.74it/s]\n"
     ]
    }
   ],
   "source": [
    "for doc in tqdm(documents):\n",
    "    es_client.index(index=index_name, document=doc)"
   ]
  },
  {
   "cell_type": "code",
   "execution_count": 189,
   "id": "0b5c7c7c-d212-4464-9cf9-d2b343094d73",
   "metadata": {},
   "outputs": [],
   "source": [
    "def build_prompt(query, search_results):\n",
    "    prompt_template = \"\"\"\n",
    "You're a course teaching assistant. Answer the QUESTION based on the CONTEXT from the FAQ database.\n",
    "Use only the facts from the CONTEXT when answering the QUESTION.\n",
    "\n",
    "QUESTION: {question}\n",
    "\n",
    "CONTEXT:\n",
    "{context}\n",
    "\"\"\".strip()\n",
    "\n",
    "    \n",
    "    context_template = \"\"\n",
    "\n",
    "    for doc in search_results:\n",
    "         context_template +=  f\"Q: {doc['question']}\\nA: {doc['text']}\\n\\n\" \n",
    "\n",
    "    \n",
    "    final_prompt = prompt_template.format(question=new_question, context=context_template).strip()\n",
    "    return final_prompt"
   ]
  },
  {
   "cell_type": "code",
   "execution_count": 190,
   "id": "427593b3-8995-4360-863b-1ff5a1491459",
   "metadata": {},
   "outputs": [],
   "source": [
    "query = \"How do I execute a command in a running docker container?\" \n",
    "\n",
    "def rag(query):\n",
    "    search_results = elastic_search(query)\n",
    "    prompt = build_prompt(query, search_results)\n",
    "    return prompt, search_results"
   ]
  },
  {
   "cell_type": "code",
   "execution_count": 191,
   "id": "090793ee-a994-4979-8e36-952a0b8ed040",
   "metadata": {},
   "outputs": [],
   "source": [
    "prompt, search_results = rag(query)"
   ]
  },
  {
   "cell_type": "code",
   "execution_count": 192,
   "id": "8a502275-684f-4f59-b8a6-e56e9bf8b950",
   "metadata": {},
   "outputs": [
    {
     "data": {
      "text/plain": [
       "'You\\'re a course teaching assistant. Answer the QUESTION based on the CONTEXT from the FAQ database.\\nUse only the facts from the CONTEXT when answering the QUESTION.\\n\\nQUESTION: How do I execute a command in a running docker container?\\n\\nCONTEXT:\\nQ: How do I debug a docker container?\\nA: Launch the container image in interactive mode and overriding the entrypoint, so that it starts a bash command.\\ndocker run -it --entrypoint bash <image>\\nIf the container is already running, execute a command in the specific container:\\ndocker ps (find the container-id)\\ndocker exec -it <container-id> bash\\n(Marcos MJD)\\n\\nQ: How do I copy files from my local machine to docker container?\\nA: You can copy files from your local machine into a Docker container using the docker cp command. Here\\'s how to do it:\\nTo copy a file or directory from your local machine into a running Docker container, you can use the `docker cp command`. The basic syntax is as follows:\\ndocker cp /path/to/local/file_or_directory container_id:/path/in/container\\nHrithik Kumar Advani\\n\\nQ: How do I copy files from a different folder into docker container’s working directory?\\nA: You can copy files from your local machine into a Docker container using the docker cp command. Here\\'s how to do it:\\nIn the Dockerfile, you can provide the folder containing the files that you want to copy over. The basic syntax is as follows:\\nCOPY [\"src/predict.py\", \"models/xgb_model.bin\", \"./\"]\\t\\t\\t\\t\\t\\t\\t\\t\\t\\t\\tGopakumar Gopinathan'"
      ]
     },
     "execution_count": 192,
     "metadata": {},
     "output_type": "execute_result"
    }
   ],
   "source": [
    "prompt"
   ]
  },
  {
   "cell_type": "code",
   "execution_count": 193,
   "id": "78bca142-df3a-4ea0-857b-07b7c2662845",
   "metadata": {},
   "outputs": [
    {
     "data": {
      "text/plain": [
       "1462"
      ]
     },
     "execution_count": 193,
     "metadata": {},
     "output_type": "execute_result"
    }
   ],
   "source": [
    "len(prompt)"
   ]
  },
  {
   "cell_type": "code",
   "execution_count": 118,
   "id": "ddd59b5b-f1cd-4941-b960-b22497e37de8",
   "metadata": {},
   "outputs": [
    {
     "data": {
      "text/plain": [
       "[{'text': 'Launch the container image in interactive mode and overriding the entrypoint, so that it starts a bash command.\\ndocker run -it --entrypoint bash <image>\\nIf the container is already running, execute a command in the specific container:\\ndocker ps (find the container-id)\\ndocker exec -it <container-id> bash\\n(Marcos MJD)',\n",
       "  'section': '5. Deploying Machine Learning Models',\n",
       "  'question': 'How do I debug a docker container?',\n",
       "  'course': 'machine-learning-zoomcamp'},\n",
       " {'text': \"You can copy files from your local machine into a Docker container using the docker cp command. Here's how to do it:\\nTo copy a file or directory from your local machine into a running Docker container, you can use the `docker cp command`. The basic syntax is as follows:\\ndocker cp /path/to/local/file_or_directory container_id:/path/in/container\\nHrithik Kumar Advani\",\n",
       "  'section': '5. Deploying Machine Learning Models',\n",
       "  'question': 'How do I copy files from my local machine to docker container?',\n",
       "  'course': 'machine-learning-zoomcamp'},\n",
       " {'text': 'You can copy files from your local machine into a Docker container using the docker cp command. Here\\'s how to do it:\\nIn the Dockerfile, you can provide the folder containing the files that you want to copy over. The basic syntax is as follows:\\nCOPY [\"src/predict.py\", \"models/xgb_model.bin\", \"./\"]\\t\\t\\t\\t\\t\\t\\t\\t\\t\\t\\tGopakumar Gopinathan',\n",
       "  'section': '5. Deploying Machine Learning Models',\n",
       "  'question': 'How do I copy files from a different folder into docker container’s working directory?',\n",
       "  'course': 'machine-learning-zoomcamp'}]"
      ]
     },
     "execution_count": 118,
     "metadata": {},
     "output_type": "execute_result"
    }
   ],
   "source": [
    "search_results"
   ]
  },
  {
   "cell_type": "code",
   "execution_count": 196,
   "id": "832b17a6-5ef5-460c-ba1e-42d20f9fde25",
   "metadata": {},
   "outputs": [
    {
     "name": "stdout",
     "output_type": "stream",
     "text": [
      "You're a course teaching assistant. Answer the QUESTION based on the CONTEXT from the FAQ database.\n",
      "Use only the facts from the CONTEXT when answering the QUESTION.\n",
      "\n",
      "QUESTION: How do I execute a command in a running docker container?\n",
      "\n",
      "CONTEXT:\n",
      "Q: How do I debug a docker container?\n",
      "A: Launch the container image in interactive mode and overriding the entrypoint, so that it starts a bash command.\n",
      "docker run -it --entrypoint bash <image>\n",
      "If the container is already running, execute a command in the specific container:\n",
      "docker ps (find the container-id)\n",
      "docker exec -it <container-id> bash\n",
      "(Marcos MJD)\n",
      "\n",
      "Q: How do I copy files from my local machine to docker container?\n",
      "A: You can copy files from your local machine into a Docker container using the docker cp command. Here's how to do it:\n",
      "To copy a file or directory from your local machine into a running Docker container, you can use the `docker cp command`. The basic syntax is as follows:\n",
      "docker cp /path/to/local/file_or_directory container_id:/path/in/container\n",
      "Hrithik Kumar Advani\n",
      "\n",
      "Q: How do I copy files from a different folder into docker container’s working directory?\n",
      "A: You can copy files from your local machine into a Docker container using the docker cp command. Here's how to do it:\n",
      "In the Dockerfile, you can provide the folder containing the files that you want to copy over. The basic syntax is as follows:\n",
      "COPY [\"src/predict.py\", \"models/xgb_model.bin\", \"./\"]\t\t\t\t\t\t\t\t\t\t\tGopakumar Gopinathan\n",
      "1462\n"
     ]
    }
   ],
   "source": [
    "query = \"How do I execute a command in a running docker container?\"\n",
    "\n",
    "prompt_template = \"\"\"\n",
    "You're a course teaching assistant. Answer the QUESTION based on the CONTEXT from the FAQ database.\n",
    "Use only the facts from the CONTEXT when answering the QUESTION.\n",
    "\n",
    "QUESTION: {question}\n",
    "\n",
    "CONTEXT:\n",
    "{context}\n",
    "\"\"\".strip()\n",
    "\n",
    "context_template = \"\"\"\n",
    "Q: {question}\n",
    "A: {text}\n",
    "\"\"\".strip()\n",
    "\n",
    "\n",
    "context_entries = \"\\n\\n\".join([context_template.format(question=doc['question'], text=doc['text']) for doc in search_results])\n",
    "\n",
    "prompt = prompt_template.format(question=query, context=context_entries).strip()\n",
    "print(prompt)\n",
    "print(len(prompt))\n"
   ]
  },
  {
   "cell_type": "markdown",
   "id": "5012886e-c859-42ab-8820-cf2380ad4f7d",
   "metadata": {},
   "source": [
    "Tiktoken"
   ]
  },
  {
   "cell_type": "code",
   "execution_count": 173,
   "id": "5d461f7d-d3ae-4c5f-8ac3-e1a87810f625",
   "metadata": {},
   "outputs": [],
   "source": [
    "import tiktoken"
   ]
  },
  {
   "cell_type": "code",
   "execution_count": 174,
   "id": "1cfaed2c-9456-47a5-80f1-8463e33b4d23",
   "metadata": {},
   "outputs": [],
   "source": [
    "encoding = tiktoken.encoding_for_model(\"gpt-4o\")"
   ]
  },
  {
   "cell_type": "code",
   "execution_count": 181,
   "id": "97549342-b1e8-4862-8fc6-0b1d1b2e8aa1",
   "metadata": {},
   "outputs": [
    {
     "data": {
      "text/plain": [
       "[63842,\n",
       " 261,\n",
       " 4165,\n",
       " 14029,\n",
       " 29186,\n",
       " 13,\n",
       " 30985,\n",
       " 290,\n",
       " 150339,\n",
       " 4122,\n",
       " 402,\n",
       " 290,\n",
       " 31810,\n",
       " 8099,\n",
       " 591,\n",
       " 290,\n",
       " 40251,\n",
       " 7862,\n",
       " 558,\n",
       " 8470,\n",
       " 1606,\n",
       " 290,\n",
       " 19719,\n",
       " 591,\n",
       " 290,\n",
       " 31810,\n",
       " 8099,\n",
       " 1261,\n",
       " 55959,\n",
       " 290,\n",
       " 150339,\n",
       " 364,\n",
       " 107036,\n",
       " 25,\n",
       " 3253,\n",
       " 621,\n",
       " 357,\n",
       " 15792,\n",
       " 261,\n",
       " 6348,\n",
       " 306,\n",
       " 261,\n",
       " 6788,\n",
       " 62275,\n",
       " 9282,\n",
       " 1715,\n",
       " 10637,\n",
       " 50738,\n",
       " 734,\n",
       " 48,\n",
       " 25,\n",
       " 3253,\n",
       " 621,\n",
       " 357,\n",
       " 15199,\n",
       " 261,\n",
       " 62275,\n",
       " 9282,\n",
       " 3901,\n",
       " 32,\n",
       " 25,\n",
       " 41281,\n",
       " 290,\n",
       " 9282,\n",
       " 3621,\n",
       " 306,\n",
       " 25383,\n",
       " 6766,\n",
       " 326,\n",
       " 151187,\n",
       " 290,\n",
       " 7251,\n",
       " 4859,\n",
       " 11,\n",
       " 813,\n",
       " 484,\n",
       " 480,\n",
       " 13217,\n",
       " 261,\n",
       " 38615,\n",
       " 6348,\n",
       " 558,\n",
       " 68923,\n",
       " 2461,\n",
       " 533,\n",
       " 278,\n",
       " 2230,\n",
       " 7962,\n",
       " 4859,\n",
       " 38615,\n",
       " 464,\n",
       " 3365,\n",
       " 523,\n",
       " 3335,\n",
       " 290,\n",
       " 9282,\n",
       " 382,\n",
       " 4279,\n",
       " 6788,\n",
       " 11,\n",
       " 15792,\n",
       " 261,\n",
       " 6348,\n",
       " 306,\n",
       " 290,\n",
       " 4857,\n",
       " 9282,\n",
       " 734,\n",
       " 68923,\n",
       " 10942,\n",
       " 350,\n",
       " 6555,\n",
       " 290,\n",
       " 9282,\n",
       " 26240,\n",
       " 446,\n",
       " 68923,\n",
       " 25398,\n",
       " 533,\n",
       " 278,\n",
       " 464,\n",
       " 6896,\n",
       " 26240,\n",
       " 29,\n",
       " 38615,\n",
       " 198,\n",
       " 6103,\n",
       " 277,\n",
       " 10732,\n",
       " 391,\n",
       " 79771,\n",
       " 1029,\n",
       " 48,\n",
       " 25,\n",
       " 3253,\n",
       " 621,\n",
       " 357,\n",
       " 5150,\n",
       " 6291,\n",
       " 591,\n",
       " 922,\n",
       " 2698,\n",
       " 7342,\n",
       " 316,\n",
       " 62275,\n",
       " 9282,\n",
       " 3901,\n",
       " 32,\n",
       " 25,\n",
       " 1608,\n",
       " 665,\n",
       " 5150,\n",
       " 6291,\n",
       " 591,\n",
       " 634,\n",
       " 2698,\n",
       " 7342,\n",
       " 1511,\n",
       " 261,\n",
       " 91238,\n",
       " 9282,\n",
       " 2360,\n",
       " 290,\n",
       " 62275,\n",
       " 27776,\n",
       " 6348,\n",
       " 13,\n",
       " 44257,\n",
       " 1495,\n",
       " 316,\n",
       " 621,\n",
       " 480,\n",
       " 734,\n",
       " 1385,\n",
       " 5150,\n",
       " 261,\n",
       " 1974,\n",
       " 503,\n",
       " 12552,\n",
       " 591,\n",
       " 634,\n",
       " 2698,\n",
       " 7342,\n",
       " 1511,\n",
       " 261,\n",
       " 6788,\n",
       " 91238,\n",
       " 9282,\n",
       " 11,\n",
       " 481,\n",
       " 665,\n",
       " 1199,\n",
       " 290,\n",
       " 2700,\n",
       " 68923,\n",
       " 27776,\n",
       " 6348,\n",
       " 62102,\n",
       " 623,\n",
       " 9439,\n",
       " 45440,\n",
       " 382,\n",
       " 472,\n",
       " 18183,\n",
       " 734,\n",
       " 68923,\n",
       " 27776,\n",
       " 820,\n",
       " 4189,\n",
       " 72231,\n",
       " 52214,\n",
       " 51766,\n",
       " 15400,\n",
       " 35850,\n",
       " 9282,\n",
       " 1537,\n",
       " 27975,\n",
       " 4189,\n",
       " 26985,\n",
       " 190543,\n",
       " 198,\n",
       " 106096,\n",
       " 437,\n",
       " 507,\n",
       " 70737,\n",
       " 15241,\n",
       " 3048,\n",
       " 279,\n",
       " 48,\n",
       " 25,\n",
       " 3253,\n",
       " 621,\n",
       " 357,\n",
       " 5150,\n",
       " 6291,\n",
       " 591,\n",
       " 261,\n",
       " 2647,\n",
       " 15610,\n",
       " 1511,\n",
       " 62275,\n",
       " 9282,\n",
       " 802,\n",
       " 4113,\n",
       " 12552,\n",
       " 3901,\n",
       " 32,\n",
       " 25,\n",
       " 1608,\n",
       " 665,\n",
       " 5150,\n",
       " 6291,\n",
       " 591,\n",
       " 634,\n",
       " 2698,\n",
       " 7342,\n",
       " 1511,\n",
       " 261,\n",
       " 91238,\n",
       " 9282,\n",
       " 2360,\n",
       " 290,\n",
       " 62275,\n",
       " 27776,\n",
       " 6348,\n",
       " 13,\n",
       " 44257,\n",
       " 1495,\n",
       " 316,\n",
       " 621,\n",
       " 480,\n",
       " 734,\n",
       " 637,\n",
       " 290,\n",
       " 91238,\n",
       " 2318,\n",
       " 11,\n",
       " 481,\n",
       " 665,\n",
       " 3587,\n",
       " 290,\n",
       " 15610,\n",
       " 15683,\n",
       " 290,\n",
       " 6291,\n",
       " 484,\n",
       " 481,\n",
       " 1682,\n",
       " 316,\n",
       " 5150,\n",
       " 1072,\n",
       " 13,\n",
       " 623,\n",
       " 9439,\n",
       " 45440,\n",
       " 382,\n",
       " 472,\n",
       " 18183,\n",
       " 734,\n",
       " 128701,\n",
       " 9129,\n",
       " 7205,\n",
       " 8138,\n",
       " 21369,\n",
       " 17311,\n",
       " 672,\n",
       " 392,\n",
       " 13123,\n",
       " 22739,\n",
       " 9320,\n",
       " 10928,\n",
       " 69422,\n",
       " 672,\n",
       " 9633,\n",
       " 2601,\n",
       " 14973,\n",
       " 22713,\n",
       " 167296,\n",
       " 30463,\n",
       " 499,\n",
       " 137058,\n",
       " 22064]"
      ]
     },
     "execution_count": 181,
     "metadata": {},
     "output_type": "execute_result"
    }
   ],
   "source": [
    "encoding.encode(prompt)"
   ]
  },
  {
   "cell_type": "code",
   "execution_count": 179,
   "id": "abb8acda-7f6c-4053-859f-4cd66fc442a4",
   "metadata": {},
   "outputs": [
    {
     "data": {
      "text/plain": [
       "322"
      ]
     },
     "execution_count": 179,
     "metadata": {},
     "output_type": "execute_result"
    }
   ],
   "source": [
    "len(encoding.encode(prompt))"
   ]
  },
  {
   "cell_type": "code",
   "execution_count": 182,
   "id": "1e2fafe8-5226-4d39-a9f9-ac485afaf3f8",
   "metadata": {},
   "outputs": [
    {
     "data": {
      "text/plain": [
       "b' the'"
      ]
     },
     "execution_count": 182,
     "metadata": {},
     "output_type": "execute_result"
    }
   ],
   "source": [
    "encoding.decode_single_token_bytes(290)"
   ]
  }
 ],
 "metadata": {
  "kernelspec": {
   "display_name": "Python 3 (ipykernel)",
   "language": "python",
   "name": "python3"
  },
  "language_info": {
   "codemirror_mode": {
    "name": "ipython",
    "version": 3
   },
   "file_extension": ".py",
   "mimetype": "text/x-python",
   "name": "python",
   "nbconvert_exporter": "python",
   "pygments_lexer": "ipython3",
   "version": "3.10.13"
  }
 },
 "nbformat": 4,
 "nbformat_minor": 5
}
